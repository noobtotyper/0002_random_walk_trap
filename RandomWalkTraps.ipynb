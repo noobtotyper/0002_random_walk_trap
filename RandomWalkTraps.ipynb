{
 "cells": [
  {
   "cell_type": "code",
   "execution_count": 1,
   "id": "ee1cd6fa",
   "metadata": {},
   "outputs": [],
   "source": [
    "import random\n",
    "\n",
    "def add_move(pos,change):\n",
    "    if len(pos)==0:\n",
    "        raise Exception\n",
    "    else:\n",
    "        return tuple(pos[i]+change[i] for i in range(len(pos)))\n",
    "\n",
    "def simulate(start,allowed_changes):\n",
    "    pos=start\n",
    "    visited=set()\n",
    "    visited.add(start)\n",
    "    count=0\n",
    "    while True:\n",
    "        possible=[move for change in allowed_changes if (move:=add_move(pos,change)) not in visited]\n",
    "        if possible:\n",
    "            pos=random.choice(possible)\n",
    "            visited.add(pos)\n",
    "            count+=1\n",
    "        else:\n",
    "            return pos,count\n",
    "\n",
    "def runs(n,start,allowed_changes):\n",
    "    distances=[]\n",
    "    counts=[]\n",
    "    for i in range(n):\n",
    "        pos,count=simulate(start=start,allowed_changes=allowed_changes)\n",
    "        distances.append(abs(pos[0]))\n",
    "        counts.append(count)\n",
    "    print_results(counts,distances,n)\n",
    "    \n",
    "def print_results(counts,distances,n):\n",
    "    print(sum(counts)/n, \"moves on average until trapped.\")\n",
    "    print(sum(distances)/n, \"average Manhattan distance from start.\")\n",
    "    \n",
    "random.seed(0)\n",
    "    "
   ]
  },
  {
   "cell_type": "code",
   "execution_count": 2,
   "id": "e4b1e812",
   "metadata": {},
   "outputs": [
    {
     "name": "stdout",
     "output_type": "stream",
     "text": [
      "19.6667 moves on average until trapped.\n",
      "18.2216 average Manhattan distance from start.\n"
     ]
    }
   ],
   "source": [
    "# CASE 1\n",
    "# For 1D, with moves up to 2 allowed\n",
    "\n",
    "start=(0,)\n",
    "allowed_changes=[(-2,),(-1,),(1,),(2,)]\n",
    "runs(10000,start,allowed_changes)"
   ]
  },
  {
   "cell_type": "code",
   "execution_count": 3,
   "id": "5fe274ff",
   "metadata": {},
   "outputs": [
    {
     "name": "stdout",
     "output_type": "stream",
     "text": [
      "28.4112 moves on average until trapped.\n",
      "25.0303 average Manhattan distance from start.\n"
     ]
    }
   ],
   "source": [
    "# CASE 2\n",
    "# For 1D, with moves up to 3 allowed\n",
    "\n",
    "start=(0,)\n",
    "allowed_changes=[(-3,),(-2,),(-1,),(1,),(2,),(3,)]\n",
    "runs(10000,start,allowed_changes)"
   ]
  },
  {
   "cell_type": "code",
   "execution_count": 4,
   "id": "68fc50fa",
   "metadata": {},
   "outputs": [
    {
     "name": "stdout",
     "output_type": "stream",
     "text": [
      "4 is max length of jump allowed\n",
      "40.415 moves on average until trapped.\n",
      "35.005 average Manhattan distance from start.\n",
      "\n",
      "5 is max length of jump allowed\n",
      "52.476 moves on average until trapped.\n",
      "46.15 average Manhattan distance from start.\n",
      "\n",
      "6 is max length of jump allowed\n",
      "69.02 moves on average until trapped.\n",
      "61.197 average Manhattan distance from start.\n",
      "\n",
      "7 is max length of jump allowed\n",
      "86.027 moves on average until trapped.\n",
      "73.761 average Manhattan distance from start.\n",
      "\n",
      "8 is max length of jump allowed\n",
      "106.327 moves on average until trapped.\n",
      "95.577 average Manhattan distance from start.\n",
      "\n",
      "9 is max length of jump allowed\n",
      "125.552 moves on average until trapped.\n",
      "111.271 average Manhattan distance from start.\n",
      "\n",
      "10 is max length of jump allowed\n",
      "151.006 moves on average until trapped.\n",
      "134.12 average Manhattan distance from start.\n",
      "\n"
     ]
    }
   ],
   "source": [
    "# CASE 3\n",
    "# For 1D, generalization with moves up to 2,...,x allowed\n",
    "        \n",
    "start=(0,)\n",
    "for x in range(4,10+1): #start must be >1\n",
    "    allowed_changes=[tuple([i]) for i in range(1,x+1)]+[tuple([-i]) for i in range(1,x+1)]\n",
    "    print(f\"{x} is max length of jump allowed\")\n",
    "    runs(1000,start,allowed_changes)\n",
    "    print()"
   ]
  },
  {
   "cell_type": "markdown",
   "id": "a931ea8a",
   "metadata": {},
   "source": [
    "Someone could make a graph to see how this scales."
   ]
  },
  {
   "cell_type": "code",
   "execution_count": 5,
   "id": "f53a3492",
   "metadata": {},
   "outputs": [
    {
     "name": "stdout",
     "output_type": "stream",
     "text": [
      "71.8577 moves on average until trapped.\n",
      "7.6538 average Manhattan distance from start.\n"
     ]
    }
   ],
   "source": [
    "# CASE 4\n",
    "# For 2D, with moves only adjacent\n",
    "        \n",
    "start=(0,0)\n",
    "allowed_changes=[(-1,0),(1,0),(0,-1),(0,1)]\n",
    "runs(10000,start,allowed_changes)"
   ]
  },
  {
   "cell_type": "code",
   "execution_count": 6,
   "id": "bbfe392c",
   "metadata": {},
   "outputs": [
    {
     "name": "stdout",
     "output_type": "stream",
     "text": [
      "207.198 moves on average until trapped.\n",
      "15.303 average Manhattan distance from start.\n"
     ]
    }
   ],
   "source": [
    "# CASE 5\n",
    "# For 2D, with adjacencies and diagonals\n",
    "    \n",
    "start=(0,0)\n",
    "allowed_changes=[(-1,0),(1,0),(0,-1),(0,1),(-1,-1),(1,-1),(-1,1),(1,1)]\n",
    "runs(1000,start,allowed_changes)"
   ]
  },
  {
   "cell_type": "code",
   "execution_count": 7,
   "id": "0bcd6dd8",
   "metadata": {},
   "outputs": [
    {
     "name": "stdout",
     "output_type": "stream",
     "text": [
      "596.422 moves on average until trapped.\n",
      "31.672 average Manhattan distance from start.\n"
     ]
    }
   ],
   "source": [
    "# CASE 6\n",
    "# For 2D, with adjacencies but doubled, a rook with stride 2\n",
    "    \n",
    "start=(0,0)\n",
    "allowed_changes=[(-1,0),(1,0),(0,-1),(0,1),(-2,0),(2,0),(0,-2),(0,2)]\n",
    "runs(1000,start,allowed_changes)"
   ]
  },
  {
   "cell_type": "code",
   "execution_count": 8,
   "id": "6aa7c082",
   "metadata": {},
   "outputs": [
    {
     "name": "stdout",
     "output_type": "stream",
     "text": [
      "3219.8 moves on average until trapped.\n",
      "89.43 average Manhattan distance from start.\n"
     ]
    }
   ],
   "source": [
    "# CASE 7\n",
    "# For 2D, only horse moves\n",
    "\n",
    "start=(0,0)\n",
    "allowed_changes=[(-2,-1),(-2,1),(2,-1),(2,1),(1,2),(1,-2),(-1,2),(-1,-2)]\n",
    "runs(100,start,allowed_changes)"
   ]
  },
  {
   "cell_type": "code",
   "execution_count": 9,
   "id": "2d60885f",
   "metadata": {},
   "outputs": [
    {
     "name": "stdout",
     "output_type": "stream",
     "text": [
      "2268.79 moves on average until trapped.\n",
      "62.95 average Manhattan distance from start.\n"
     ]
    }
   ],
   "source": [
    "# CASE 8\n",
    "# For 2D, Knight-King moves\n",
    "    \n",
    "start=(0,0)\n",
    "allowed_changes=[(-1,0),(1,0),(0,-1),(0,1)]+[(-1,-1),(1,-1),(-1,1),(1,1)]+[(-2,-1),(-2,1),(2,-1),(2,1),(1,2),(1,-2),(-1,2),(-1,-2)]\n",
    "runs(100,start,allowed_changes)"
   ]
  },
  {
   "cell_type": "code",
   "execution_count": null,
   "id": "99ab91b2",
   "metadata": {},
   "outputs": [
    {
     "name": "stdout",
     "output_type": "stream",
     "text": [
      "9126.12 moves on average until trapped.\n",
      "166.8 average Manhattan distance from start.\n"
     ]
    }
   ],
   "source": [
    "# CASE 9\n",
    "# For 2D, king with 2 moves\n",
    "\n",
    "start = (0, 0)\n",
    "allowed_changes = (\n",
    "    [(-1, 0), (1, 0), (0, -1), (0, 1)]\n",
    "    + [(-1, -1), (1, -1), (-1, 1), (1, 1)]\n",
    "    + [(-2, -1), (-2, 1), (2, -1), (2, 1), (1, 2), (1, -2), (-1, 2), (-1, -2)]\n",
    "    + [(-2, -2), (-2, 2), (2, -2), (2, 2), (2, 0), (0, 2), (-2, 0), (0, -2)]\n",
    ")\n",
    "runs(100, start, allowed_changes)"
   ]
  },
  {
   "cell_type": "code",
   "execution_count": 11,
   "id": "06f88090",
   "metadata": {},
   "outputs": [
    {
     "name": "stdout",
     "output_type": "stream",
     "text": [
      "4042.675 moves on average until trapped.\n",
      "34.216 average Manhattan distance from start.\n"
     ]
    }
   ],
   "source": [
    "# CASE 10\n",
    "# In 3D\n",
    "start=(0,0,0)\n",
    "allowed_changes=[(1,0,0),(-1,0,0),(0,1,0),(0,-1,0),(0,0,1),(0,0,-1)]\n",
    "runs(1000,start,allowed_changes)"
   ]
  },
  {
   "cell_type": "code",
   "execution_count": 12,
   "id": "60ad571a",
   "metadata": {},
   "outputs": [
    {
     "name": "stdout",
     "output_type": "stream",
     "text": [
      "66362271.0 moves on average until trapped.\n",
      "4054.0 average Manhattan distance from start.\n"
     ]
    }
   ],
   "source": [
    "# CASE 11\n",
    "# In 3D, with diagonals\n",
    "start=(0,0,0)\n",
    "allowed_changes=[(1,0,0),(-1,0,0),(0,1,0),(0,-1,0),(0,0,1),(0,0,-1)]+[(1,1,1),(-1,1,1),(1,-1,1),(1,1,-1),(-1,-1,1),(-1,1,-1),(1,-1,-1),(-1,-1,-1)]\n",
    "runs(1,start,allowed_changes)\n",
    "\n",
    "# The problem is that it moves mostly diagonally and takes maaany moves to create a trap"
   ]
  },
  {
   "cell_type": "code",
   "execution_count": 13,
   "id": "fffa6876",
   "metadata": {},
   "outputs": [
    {
     "name": "stdout",
     "output_type": "stream",
     "text": [
      "6873031.0 moves on average until trapped.\n",
      "1402.0 average Manhattan distance from start.\n"
     ]
    }
   ],
   "source": [
    "# CASE 12\n",
    "# In 4D, just adjacencies\n",
    "start=(0,0,0,0)\n",
    "allowed_changes=[(1,0,0,0),(-1,0,0,0),(0,1,0,0),(0,-1,0,0),(0,0,1,0),(0,0,-1,0),(0,0,0,1),(0,0,0,-1)]\n",
    "runs(1,start,allowed_changes)"
   ]
  }
 ],
 "metadata": {
  "kernelspec": {
   "display_name": "comp-methods",
   "language": "python",
   "name": "python3"
  },
  "language_info": {
   "codemirror_mode": {
    "name": "ipython",
    "version": 3
   },
   "file_extension": ".py",
   "mimetype": "text/x-python",
   "name": "python",
   "nbconvert_exporter": "python",
   "pygments_lexer": "ipython3",
   "version": "3.12.2"
  }
 },
 "nbformat": 4,
 "nbformat_minor": 5
}
